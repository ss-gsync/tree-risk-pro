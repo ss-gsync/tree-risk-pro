{
 "cells": [
  {
   "cell_type": "markdown",
   "metadata": {},
   "source": [
    "# S2 Geospatial Indexing for Tree Risk Pro\n",
    "\n",
    "This notebook demonstrates the S2 geospatial indexing system implemented for the Tree Risk Pro Dashboard. S2 is Google's spatial indexing system that divides the earth into cells at different levels of granularity."
   ]
  },
  {
   "cell_type": "code",
   "execution_count": null,
   "metadata": {},
   "source": [
    "import sys\n",
    "import os\n",
    "import json\n",
    "import asyncio\n",
    "import numpy as np\n",
    "import matplotlib.pyplot as plt\n",
    "from IPython.display import display\n",
    "\n",
    "# Add backend directory to the path\n",
    "sys.path.append(os.path.join(os.path.dirname('__file__'), 'backend'))\n",
    "\n",
    "# Import the S2 index manager\n",
    "from services.detection_service import S2IndexManager"
   ]
  },
  {
   "cell_type": "markdown",
   "metadata": {},
   "source": [
    "## Initialize the S2 Index Manager\n",
    "\n",
    "First, we'll initialize the S2IndexManager, which handles all S2 operations for the Tree Risk Pro system."
   ]
  },
  {
   "cell_type": "code",
   "execution_count": null,
   "metadata": {},
   "source": [
    "# Create instance of S2IndexManager\n",
    "s2_manager = S2IndexManager()\n",
    "\n",
    "# Display the available cell levels\n",
    "print(\"S2 Cell Levels:\")\n",
    "for level_name, level in s2_manager.cell_levels.items():\n",
    "    print(f\"  {level_name.capitalize()}: Level {level}\")"
   ]
  },
  {
   "cell_type": "markdown",
   "metadata": {},
   "source": [
    "## Generate S2 Cell IDs for a Location\n",
    "\n",
    "Now, let's generate S2 cell IDs for a specific location at different levels."
   ]
  },
  {
   "cell_type": "code",
   "execution_count": null,
   "metadata": {},
   "source": [
    "# Sample location (Downtown Dallas, TX)\n",
    "lat, lng = 32.7767, -96.7970\n",
    "\n",
    "# Generate cell IDs at different levels\n",
    "print(f\"Cell IDs for location: [{lat}, {lng}]\")\n",
    "for level_name, level in s2_manager.cell_levels.items():\n",
    "    cell_id = s2_manager.get_cell_id(lat, lng, level_name)\n",
    "    print(f\"  {level_name.capitalize()}: {cell_id}\")\n",
    "\n",
    "# Get all cell IDs for this location at once\n",
    "all_cells = s2_manager.get_cell_ids_for_tree(lat, lng)\n",
    "print(\"\\nAll cell IDs for the location:\")\n",
    "print(json.dumps(all_cells, indent=2))"
   ]
  },
  {
   "cell_type": "markdown",
   "metadata": {},
   "source": [
    "## Find Neighboring Cells\n",
    "\n",
    "Let's find neighboring cells around our location."
   ]
  },
  {
   "cell_type": "code",
   "execution_count": null,
   "metadata": {},
   "source": [
    "level = 'block'  # Use block level for this example\n",
    "neighbors = s2_manager.get_neighbors(lat, lng, level, 8)\n",
    "\n",
    "print(f\"Found {len(neighbors)} neighboring cells at {level} level:\")\n",
    "for i, neighbor_id in enumerate(neighbors):\n",
    "    print(f\"  Neighbor {i+1}: {neighbor_id}\")"
   ]
  },
  {
   "cell_type": "markdown",
   "metadata": {},
   "source": [
    "## Get Cells for a Geographic Bounding Box\n",
    "\n",
    "Now let's find all the S2 cells that cover a specific geographic area."
   ]
  },
  {
   "cell_type": "code",
   "execution_count": null,
   "metadata": {},
   "source": [
    "# Define a bounding box (roughly Dallas downtown area)\n",
    "bounds = [\n",
    "    [lng - 0.01, lat - 0.01],  # SW corner\n",
    "    [lng + 0.01, lat + 0.01]   # NE corner\n",
    "]\n",
    "\n",
    "print(f\"Bounds: SW {bounds[0]}, NE {bounds[1]}\")\n",
    "\n",
    "# Get cells at different levels\n",
    "for level_name in s2_manager.cell_levels.keys():\n",
    "    cells = s2_manager.get_cells_for_bounds(bounds, level_name)\n",
    "    print(f\"\\n{level_name.capitalize()} level: {len(cells)} cells\")\n",
    "    if len(cells) <= 10:\n",
    "        print(f\"  Cell IDs: {cells}\")\n",
    "    else:\n",
    "        print(f\"  First 5 cell IDs: {cells[:5]}\")"
   ]
  },
  {
   "cell_type": "markdown",
   "metadata": {},
   "source": [
    "## Demonstration with Simulated Tree Data\n",
    "\n",
    "Let's create some simulated tree data and show how it would be indexed with S2 cells."
   ]
  },
  {
   "cell_type": "code",
   "execution_count": null,
   "metadata": {},
   "source": [
    "# Create simulated tree data\n",
    "np.random.seed(42)  # For reproducibility\n",
    "num_trees = 50\n",
    "\n",
    "# Generate random tree locations within our bounds\n",
    "tree_lats = np.random.uniform(bounds[0][1], bounds[1][1], num_trees)\n",
    "tree_lngs = np.random.uniform(bounds[0][0], bounds[1][0], num_trees)\n",
    "\n",
    "# Create tree objects with S2 cells\n",
    "tree_data = []\n",
    "for i in range(num_trees):\n",
    "    # Get S2 cell IDs for this tree\n",
    "    s2_cells = s2_manager.get_cell_ids_for_tree(tree_lats[i], tree_lngs[i])\n",
    "    \n",
    "    # Assign a random risk level\n",
    "    risk_levels = ['low', 'medium', 'high']\n",
    "    risk_level = risk_levels[np.random.randint(0, len(risk_levels))]\n",
    "    \n",
    "    # Create tree object\n",
    "    tree = {\n",
    "        'id': f'tree_{i}',\n",
    "        'location': [tree_lngs[i], tree_lats[i]],\n",
    "        'risk_level': risk_level,\n",
    "        's2_cells': s2_cells\n",
    "    }\n",
    "    tree_data.append(tree)\n",
    "\n",
    "print(f\"Created {len(tree_data)} simulated trees with S2 cell indexing\")\n",
    "print(\"Example tree data:\")\n",
    "print(json.dumps(tree_data[0], indent=2))"
   ]
  },
  {
   "cell_type": "markdown",
   "metadata": {},
   "source": [
    "## Group Trees by S2 Cell\n",
    "\n",
    "Now let's group the trees by S2 cell to demonstrate how this is useful for visualization and analysis."
   ]
  },
  {
   "cell_type": "code",
   "execution_count": null,
   "metadata": {},
   "source": [
    "# Group trees by block level S2 cell\n",
    "grouped_trees = {}\n",
    "level = 'block'\n",
    "\n",
    "for tree in tree_data:\n",
    "    # Get the cell ID for this tree at the block level\n",
    "    cell_id = tree['s2_cells'][level]\n",
    "    \n",
    "    # Add to the appropriate group\n",
    "    if cell_id not in grouped_trees:\n",
    "        grouped_trees[cell_id] = []\n",
    "        \n",
    "    grouped_trees[cell_id].append(tree)\n",
    "\n",
    "print(f\"Grouped {len(tree_data)} trees into {len(grouped_trees)} S2 cells at {level} level\")\n",
    "\n",
    "# Display the number of trees in each cell\n",
    "print(\"\\nTrees per cell:\")\n",
    "for cell_id, trees in grouped_trees.items():\n",
    "    print(f\"  Cell {cell_id}: {len(trees)} trees\")"
   ]
  },
  {
   "cell_type": "markdown",
   "metadata": {},
   "source": [
    "## Calculate Statistics for Each Cell\n",
    "\n",
    "Now let's calculate statistics for each cell, which would be useful for visualizations and risk analysis."
   ]
  },
  {
   "cell_type": "code",
   "execution_count": null,
   "metadata": {},
   "source": [
    "# Calculate statistics for each cell\n",
    "cell_stats = {}\n",
    "\n",
    "# Risk level mapping\n",
    "risk_levels = {\n",
    "    'low': 1,\n",
    "    'medium': 2,\n",
    "    'high': 3\n",
    "}\n",
    "\n",
    "for cell_id, trees in grouped_trees.items():\n",
    "    # Calculate basic statistics\n",
    "    tree_count = len(trees)\n",
    "    \n",
    "    # Calculate average position\n",
    "    avg_lat = sum(tree['location'][1] for tree in trees) / tree_count\n",
    "    avg_lng = sum(tree['location'][0] for tree in trees) / tree_count\n",
    "    \n",
    "    # Calculate average risk\n",
    "    risk_values = [risk_levels[tree['risk_level']] for tree in trees]\n",
    "    avg_risk = sum(risk_values) / tree_count\n",
    "    \n",
    "    # Determine dominant risk level\n",
    "    if avg_risk < 1.5:\n",
    "        dominant_risk = 'low'\n",
    "    elif avg_risk < 2.5:\n",
    "        dominant_risk = 'medium'\n",
    "    else:\n",
    "        dominant_risk = 'high'\n",
    "    \n",
    "    # Store the statistics\n",
    "    cell_stats[cell_id] = {\n",
    "        'tree_count': tree_count,\n",
    "        'center': [avg_lng, avg_lat],\n",
    "        'avg_risk_value': avg_risk,\n",
    "        'dominant_risk': dominant_risk,\n",
    "        'trees': [tree['id'] for tree in trees]\n",
    "    }\n",
    "\n",
    "print(f\"Calculated statistics for {len(cell_stats)} S2 cells\")\n",
    "print(\"\\nExample cell statistics:\")\n",
    "first_cell_id = list(cell_stats.keys())[0]\n",
    "print(json.dumps(cell_stats[first_cell_id], indent=2))"
   ]
  },
  {
   "cell_type": "markdown",
   "metadata": {},
   "source": [
    "## Visualize Trees and S2 Cells\n",
    "\n",
    "Let's create a simple visualization of our trees and S2 cells."
   ]
  },
  {
   "cell_type": "code",
   "execution_count": null,
   "metadata": {},
   "source": [
    "plt.figure(figsize=(10, 10))\n",
    "\n",
    "# Plot all trees\n",
    "for tree in tree_data:\n",
    "    lng, lat = tree['location']\n",
    "    risk = tree['risk_level']\n",
    "    \n",
    "    # Choose color based on risk\n",
    "    if risk == 'low':\n",
    "        color = 'green'\n",
    "    elif risk == 'medium':\n",
    "        color = 'orange'\n",
    "    else:  # high\n",
    "        color = 'red'\n",
    "        \n",
    "    plt.plot(lng, lat, 'o', color=color, markersize=6, alpha=0.7)\n",
    "\n",
    "# Plot cell centers with size based on tree count\n",
    "for cell_id, stats in cell_stats.items():\n",
    "    center_lng, center_lat = stats['center']\n",
    "    tree_count = stats['tree_count']\n",
    "    \n",
    "    # Choose color based on dominant risk\n",
    "    risk = stats['dominant_risk']\n",
    "    if risk == 'low':\n",
    "        color = 'green'\n",
    "    elif risk == 'medium':\n",
    "        color = 'orange'\n",
    "    else:  # high\n",
    "        color = 'red'\n",
    "    \n",
    "    # Plot cell center with size based on tree count\n",
    "    plt.plot(center_lng, center_lat, 's', color=color, \n",
    "             markersize=10 + tree_count, alpha=0.5)\n",
    "\n",
    "# Add labels and title\n",
    "plt.xlabel('Longitude')\n",
    "plt.ylabel('Latitude')\n",
    "plt.title(f'Trees and S2 Cells ({level.capitalize()} Level)')\n",
    "\n",
    "# Add legend\n",
    "from matplotlib.lines import Line2D\n",
    "legend_elements = [\n",
    "    Line2D([0], [0], marker='o', color='w', markerfacecolor='green', markersize=10, label='Low Risk Tree'),\n",
    "    Line2D([0], [0], marker='o', color='w', markerfacecolor='orange', markersize=10, label='Medium Risk Tree'),\n",
    "    Line2D([0], [0], marker='o', color='w', markerfacecolor='red', markersize=10, label='High Risk Tree'),\n",
    "    Line2D([0], [0], marker='s', color='w', markerfacecolor='blue', markersize=10, alpha=0.5, label='S2 Cell Center')\n",
    "]\n",
    "plt.legend(handles=legend_elements, loc='upper right')\n",
    "\n",
    "plt.grid(True)\n",
    "plt.tight_layout()\n",
    "plt.show()"
   ]
  },
  {
   "cell_type": "markdown",
   "metadata": {},
   "source": [
    "## Conclusion\n",
    "\n",
    "In this notebook, we've demonstrated the S2 geospatial indexing system implemented for the Tree Risk Pro Dashboard. This system enables efficient spatial organization and querying of tree data, which is essential for both visualization and analysis.\n",
    "\n",
    "Key benefits of S2 indexing for the Tree Risk Pro system:\n",
    "\n",
    "1. Efficient spatial queries (find trees in a specific area)\n",
    "2. Hierarchical grouping at different zoom levels\n",
    "3. Fast neighbor lookups (find trees near a specific location)\n",
    "4. Statistical analysis by geographic area\n",
    "5. Clustering for visualization\n",
    "\n",
    "The S2 indexing system integrates with YOLO/DeepForest detection and SAM segmentation to provide a comprehensive geospatial solution for tree risk assessment."
   ]
  }
 ],
 "metadata": {
  "kernelspec": {
   "display_name": "Python 3",
   "language": "python",
   "name": "python3"
  },
  "language_info": {
   "codemirror_mode": {
    "name": "ipython",
    "version": 3
   },
   "file_extension": ".py",
   "mimetype": "text/x-python",
   "name": "python",
   "nbconvert_exporter": "python",
   "pygments_lexer": "ipython3",
   "version": "3.12.0"
  }
 },
 "nbformat": 4,
 "nbformat_minor": 4
}